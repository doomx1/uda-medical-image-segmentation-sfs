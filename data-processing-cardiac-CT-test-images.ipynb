{
 "cells": [
  {
   "cell_type": "code",
   "execution_count": 1,
   "metadata": {},
   "outputs": [],
   "source": [
    "# Reads CT test images and labels, and saves them in tf-record format similar to the training/validation images\n",
    "# The data will be saved under 'ct_test_tfs', and the list of slices will be under 'ct_test_list'\n",
    "# Follows the code at https://github.com/cchen-cc/SIFA/blob/SIFA-v1/evaluate.py"
   ]
  },
  {
   "cell_type": "code",
   "execution_count": 2,
   "metadata": {},
   "outputs": [],
   "source": [
    "import numpy as np\n",
    "import tensorflow as tf\n",
    "import nibabel as nib\n",
    "\n",
    "import io_utils as io\n",
    "import importlib"
   ]
  },
  {
   "cell_type": "code",
   "execution_count": 3,
   "metadata": {},
   "outputs": [],
   "source": [
    "test_img_dir = \"./data/mmwhs/test_ct_image&labels/\"\n",
    "files = [\"1003\", \"1008\", \"1014\", \"1019\"]\n",
    "\n",
    "data_dir = \"./data/mmwhs/PnpAda_release_data/train&val/\"\n",
    "test_file_list = \"./data/mmwhs/PnpAda_release_data/train&val/ct_test_list\""
   ]
  },
  {
   "cell_type": "code",
   "execution_count": 4,
   "metadata": {},
   "outputs": [
    {
     "name": "stdout",
     "output_type": "stream",
     "text": [
      "-1.508024935050452 2.368554272081745 -3.5548422022236e-05 0.999788836343351\n",
      "-1.763460938640936 1.3978457339762702 -1.9370614215015328e-05 0.9999155158331816\n",
      "-1.1669894842597788 2.2552393552573076 6.939882422179848e-05 0.9997865691462293\n",
      "-1.4178956401328702 1.6743763779368976 6.119588110340898e-05 0.9999489784833527\n"
     ]
    }
   ],
   "source": [
    "test_files = []\n",
    "fn_idx = 0\n",
    "\n",
    "for scan in files:\n",
    "    slices = nib.load(test_img_dir + \"image_ct_\" + scan + \".nii\")\n",
    "    labels = nib.load(test_img_dir + \"gth_ct_\" + scan + \".nii\")\n",
    "    \n",
    "    slices = slices.get_fdata() * 1.\n",
    "    labels = labels.get_fdata()\n",
    "    \n",
    "    # Flip data, per https://github.com/cchen-cc/SIFA/blob/master/evaluate.py line 160\n",
    "    slices = np.flip(slices, axis=0)\n",
    "    slices = np.flip(slices, axis=1)\n",
    "    labels = np.flip(labels, axis=0)\n",
    "    labels = np.flip(labels, axis=1)\n",
    "    \n",
    "    print(np.min(slices), np.max(slices), np.mean(slices), np.var(slices))\n",
    "    \n",
    "    for idx in range(slices.shape[2]):\n",
    "        X = np.zeros((256,256,3), dtype=np.float32)\n",
    "        Y = np.zeros((256,256,3), dtype=np.float32)\n",
    "        \n",
    "        # Compute the default image\n",
    "        for channel_idx in range(3):\n",
    "            i = idx + channel_idx - 1\n",
    "            i = max(i, 0)\n",
    "            i = min(i, slices.shape[0] - 1)\n",
    "            \n",
    "            X[..., channel_idx] = np.copy(slices[...,i])\n",
    "            Y[..., channel_idx] = np.copy(labels[...,i])\n",
    "            \n",
    "        fn = \"ct_test_tfs/ct_test_slice\" + str(fn_idx) + \".tfrecords\"\n",
    "        test_files.append(fn)\n",
    "        io.to_tfrecord(X, Y, data_dir + fn)\n",
    "        fn_idx += 1"
   ]
  },
  {
   "cell_type": "code",
   "execution_count": 5,
   "metadata": {},
   "outputs": [],
   "source": [
    "with open(test_file_list, 'w') as fct_list:\n",
    "    for item in test_files:\n",
    "        fct_list.write(\"%s\\n\" % item)"
   ]
  },
  {
   "cell_type": "code",
   "execution_count": 6,
   "metadata": {},
   "outputs": [],
   "source": [
    "importlib.reload(io)\n",
    "\n",
    "im,la = io.sample_batch(\"./data/mmwhs/PnpAda_release_data/train&val/\", \\\n",
    "                     test_files, \\\n",
    "                     data_type='mr', \\\n",
    "                     batch_size=3)"
   ]
  },
  {
   "cell_type": "code",
   "execution_count": null,
   "metadata": {},
   "outputs": [],
   "source": []
  }
 ],
 "metadata": {
  "kernelspec": {
   "display_name": "Python 3",
   "language": "python",
   "name": "python3"
  },
  "language_info": {
   "codemirror_mode": {
    "name": "ipython",
    "version": 3
   },
   "file_extension": ".py",
   "mimetype": "text/x-python",
   "name": "python",
   "nbconvert_exporter": "python",
   "pygments_lexer": "ipython3",
   "version": "3.8.3"
  }
 },
 "nbformat": 4,
 "nbformat_minor": 4
}
